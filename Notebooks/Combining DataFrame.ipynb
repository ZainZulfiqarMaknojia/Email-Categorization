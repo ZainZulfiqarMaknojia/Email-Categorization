{
 "cells": [
  {
   "cell_type": "code",
   "execution_count": 1,
   "metadata": {},
   "outputs": [],
   "source": [
    "import pandas as pd"
   ]
  },
  {
   "cell_type": "code",
   "execution_count": 2,
   "metadata": {},
   "outputs": [],
   "source": [
    "df1 = pd.read_csv('training-data-chunk-1.csv')\n",
    "df2 = pd.read_csv('training-data-chunk-2.csv')\n",
    "df3 = pd.read_csv('training-data-chunk-3.csv')\n",
    "df4 = pd.read_csv('training-data-chunk-4.csv')\n",
    "df5 = pd.read_csv('training-data-chunk-5.csv')\n",
    "df6 = pd.read_csv('training-data-chunk-6.csv')\n",
    "df7 = pd.read_csv('training-data-chunk-7.csv')\n",
    "df8 = pd.read_csv('training-data-chunk-8.csv')\n",
    "df9 = pd.read_csv('training-data-chunk-9.csv')\n",
    "df10 = pd.read_csv('training-data-chunk-10.csv')\n",
    "df11 = pd.read_csv('training-data-chunk-11.csv')\n",
    "df12 = pd.read_csv('training-data-chunk-12.csv')\n",
    "df13 = pd.read_csv('training-data-chunk-13.csv')\n",
    "df14 = pd.read_csv('training-data-chunk-14.csv')\n",
    "df15 = pd.read_csv('training-data-chunk-15.csv')\n",
    "df16 = pd.read_csv('training-data-chunk-16.csv')\n",
    "df17 = pd.read_csv('training-data-chunk-17.csv')\n",
    "df18 = pd.read_csv('training-data-chunk-18.csv')\n",
    "df19 = pd.read_csv('training-data-chunk-19.csv')\n",
    "df20 = pd.read_csv('training-data-chunk-20.csv')\n",
    "Frames = [df1,df2,df3,df4,df5,df6,df7,df8,df9,df10,df11,df12,df13,df14,df15,df16,df17,df18,df19,df20]\n"
   ]
  },
  {
   "cell_type": "code",
   "execution_count": 3,
   "metadata": {},
   "outputs": [],
   "source": [
    "df = pd.concat(Frames)"
   ]
  },
  {
   "cell_type": "code",
   "execution_count": 4,
   "metadata": {},
   "outputs": [
    {
     "data": {
      "text/plain": [
       "(18693, 5)"
      ]
     },
     "execution_count": 4,
     "metadata": {},
     "output_type": "execute_result"
    }
   ],
   "source": [
    "df.shape"
   ]
  },
  {
   "cell_type": "code",
   "execution_count": 5,
   "metadata": {},
   "outputs": [
    {
     "data": {
      "text/html": [
       "<div>\n",
       "<style scoped>\n",
       "    .dataframe tbody tr th:only-of-type {\n",
       "        vertical-align: middle;\n",
       "    }\n",
       "\n",
       "    .dataframe tbody tr th {\n",
       "        vertical-align: top;\n",
       "    }\n",
       "\n",
       "    .dataframe thead th {\n",
       "        text-align: right;\n",
       "    }\n",
       "</style>\n",
       "<table border=\"1\" class=\"dataframe\">\n",
       "  <thead>\n",
       "    <tr style=\"text-align: right;\">\n",
       "      <th></th>\n",
       "      <th>Unnamed: 0</th>\n",
       "      <th>From</th>\n",
       "      <th>Subject</th>\n",
       "      <th>Message-Content</th>\n",
       "      <th>Label</th>\n",
       "    </tr>\n",
       "  </thead>\n",
       "  <tbody>\n",
       "    <tr>\n",
       "      <th>0</th>\n",
       "      <td>0</td>\n",
       "      <td>From: dsoconne@quads.uchicago.edu (Daniel S OC...</td>\n",
       "      <td>Subject: Re: Religion and homosexuality\\n</td>\n",
       "      <td>\\n&gt; magarret@magnus.acs.ohio-state.edu (COMPUT...</td>\n",
       "      <td>Religion</td>\n",
       "    </tr>\n",
       "    <tr>\n",
       "      <th>1</th>\n",
       "      <td>1</td>\n",
       "      <td>From: pharvey@quack.kfu.com (Paul Harvey)\\n</td>\n",
       "      <td>Subject: Re: 5 Apr 93   God's Promise in Psalm...</td>\n",
       "      <td>\\nIn article &lt;C50KDr.Duz@acsu.buffalo.edu&gt; \\np...</td>\n",
       "      <td>Religion</td>\n",
       "    </tr>\n",
       "    <tr>\n",
       "      <th>2</th>\n",
       "      <td>2</td>\n",
       "      <td>From: \"David R. Sacco\" &lt;dsav+@andrew.cmu.edu&gt;\\n</td>\n",
       "      <td>Subject: Re: Spreading Christianity (Re: Chris...</td>\n",
       "      <td>\\n   Not to be too snide about it, but I think...</td>\n",
       "      <td>Religion</td>\n",
       "    </tr>\n",
       "    <tr>\n",
       "      <th>3</th>\n",
       "      <td>3</td>\n",
       "      <td>From: joslin@pogo.isp.pitt.edu (David Joslin)\\n</td>\n",
       "      <td>Subject: Re: Food For Thought On Tyre\\n</td>\n",
       "      <td>\\naf664@yfn.ysu.edu (Frank DeCenso, Jr.) write...</td>\n",
       "      <td>Religion</td>\n",
       "    </tr>\n",
       "    <tr>\n",
       "      <th>4</th>\n",
       "      <td>4</td>\n",
       "      <td>From: boylan@sltg04.ljo.dec.com (Steve Boylan)\\n</td>\n",
       "      <td>Subject: Re: Christian Daemons? [Biblical Demo...</td>\n",
       "      <td>\\n\\nIn article &lt;1993Apr1.024850.20111@sradzy.u...</td>\n",
       "      <td>Religion</td>\n",
       "    </tr>\n",
       "  </tbody>\n",
       "</table>\n",
       "</div>"
      ],
      "text/plain": [
       "   Unnamed: 0                                               From  \\\n",
       "0           0  From: dsoconne@quads.uchicago.edu (Daniel S OC...   \n",
       "1           1        From: pharvey@quack.kfu.com (Paul Harvey)\\n   \n",
       "2           2    From: \"David R. Sacco\" <dsav+@andrew.cmu.edu>\\n   \n",
       "3           3    From: joslin@pogo.isp.pitt.edu (David Joslin)\\n   \n",
       "4           4   From: boylan@sltg04.ljo.dec.com (Steve Boylan)\\n   \n",
       "\n",
       "                                             Subject  \\\n",
       "0          Subject: Re: Religion and homosexuality\\n   \n",
       "1  Subject: Re: 5 Apr 93   God's Promise in Psalm...   \n",
       "2  Subject: Re: Spreading Christianity (Re: Chris...   \n",
       "3            Subject: Re: Food For Thought On Tyre\\n   \n",
       "4  Subject: Re: Christian Daemons? [Biblical Demo...   \n",
       "\n",
       "                                     Message-Content     Label  \n",
       "0  \\n> magarret@magnus.acs.ohio-state.edu (COMPUT...  Religion  \n",
       "1  \\nIn article <C50KDr.Duz@acsu.buffalo.edu> \\np...  Religion  \n",
       "2  \\n   Not to be too snide about it, but I think...  Religion  \n",
       "3  \\naf664@yfn.ysu.edu (Frank DeCenso, Jr.) write...  Religion  \n",
       "4  \\n\\nIn article <1993Apr1.024850.20111@sradzy.u...  Religion  "
      ]
     },
     "execution_count": 5,
     "metadata": {},
     "output_type": "execute_result"
    }
   ],
   "source": [
    "df.head()"
   ]
  },
  {
   "cell_type": "code",
   "execution_count": 6,
   "metadata": {},
   "outputs": [],
   "source": [
    "df.to_csv('trainingData.csv')"
   ]
  },
  {
   "cell_type": "code",
   "execution_count": null,
   "metadata": {},
   "outputs": [],
   "source": []
  }
 ],
 "metadata": {
  "kernelspec": {
   "display_name": "Python 3",
   "language": "python",
   "name": "python3"
  },
  "language_info": {
   "codemirror_mode": {
    "name": "ipython",
    "version": 3
   },
   "file_extension": ".py",
   "mimetype": "text/x-python",
   "name": "python",
   "nbconvert_exporter": "python",
   "pygments_lexer": "ipython3",
   "version": "3.8.3"
  }
 },
 "nbformat": 4,
 "nbformat_minor": 4
}
